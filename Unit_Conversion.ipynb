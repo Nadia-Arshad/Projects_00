{
  "nbformat": 4,
  "nbformat_minor": 0,
  "metadata": {
    "colab": {
      "provenance": [],
      "authorship_tag": "ABX9TyNYec93OWaPfS2x5QrKzu8V",
      "include_colab_link": true
    },
    "kernelspec": {
      "name": "python3",
      "display_name": "Python 3"
    },
    "language_info": {
      "name": "python"
    }
  },
  "cells": [
    {
      "cell_type": "markdown",
      "metadata": {
        "id": "view-in-github",
        "colab_type": "text"
      },
      "source": [
        "<a href=\"https://colab.research.google.com/github/Nadia-Arshad/Projects_00/blob/main/Unit_Conversion.ipynb\" target=\"_parent\"><img src=\"https://colab.research.google.com/assets/colab-badge.svg\" alt=\"Open In Colab\"/></a>"
      ]
    },
    {
      "cell_type": "markdown",
      "source": [
        "<h4>Simple if statement:</h4>\n",
        "\n"
      ],
      "metadata": {
        "id": "VDER0058MUF1"
      }
    },
    {
      "cell_type": "code",
      "source": [
        "user_input = int(input(\"Write a number to convert. \"))\n",
        "conversion_choice = input(\"Choose from below:\\n A. cm B. mm C. km \")\n",
        "if conversion_choice == \"A\":\n",
        "    print(user_input * 100)\n",
        "elif conversion_choice == \"B\":\n",
        "    print(user_input * 10)\n",
        "elif conversion_choice == \"C\":\n",
        "    print(user_input / 1000)\n"
      ],
      "metadata": {
        "colab": {
          "base_uri": "https://localhost:8080/"
        },
        "id": "rEEzDAbyqHe8",
        "outputId": "58efcf92-d690-42f5-b878-3af3a23892e5"
      },
      "execution_count": 7,
      "outputs": [
        {
          "output_type": "stream",
          "name": "stdout",
          "text": [
            "Write a number to convert. 75\n",
            "Choose from below:\n",
            " A. cm B. mm C. kmB\n",
            "750\n"
          ]
        }
      ]
    },
    {
      "cell_type": "markdown",
      "source": [
        "Using Dictionary to store the options:\n"
      ],
      "metadata": {
        "id": "39gkiDkXMHAc"
      }
    },
    {
      "cell_type": "code",
      "source": [
        "user_input = int(input(\"Write a number to convert. \"))\n",
        "conversion_choice = input(\"Choose from below:\\n A. cm B. mm C. km \").upper()\n",
        "conversions = {\n",
        "    \"A\" : user_input * 100,\n",
        "    \"B\" : user_input * 10,\n",
        "    \"C\" : user_input / 1000\n",
        "}\n",
        "print(conversions[conversion_choice])\n"
      ],
      "metadata": {
        "colab": {
          "base_uri": "https://localhost:8080/"
        },
        "id": "nXj5OjBGruph",
        "outputId": "5178a812-66f7-4e4e-d7e6-89200b2ec730"
      },
      "execution_count": 9,
      "outputs": [
        {
          "output_type": "stream",
          "name": "stdout",
          "text": [
            "Write a number to convert. 74\n",
            "Choose from below:\n",
            " A. cm B. mm C. km b\n",
            "740\n"
          ]
        }
      ]
    },
    {
      "cell_type": "markdown",
      "source": [
        "Making a function:"
      ],
      "metadata": {
        "id": "_wHD2y44MkYZ"
      }
    },
    {
      "cell_type": "code",
      "source": [
        "def convert_length(value, unit):\n",
        "    unit = unit.upper()\n",
        "    if unit == \"A\":\n",
        "        return value * 100\n",
        "    elif unit == \"B\":\n",
        "        return value * 10\n",
        "    elif unit == \"C\":\n",
        "        return value / 1000\n",
        "    else:\n",
        "        return \"Invalid unit.\"\n",
        "\n",
        "user_input = int(input(\"Write a number to convert. \"))\n",
        "conversion_choice = input(\"Choose from below:\\n A. cm B. mm C. km \")\n",
        "\n",
        "result = convert_length(user_input, conversion_choice)\n",
        "print(result)"
      ],
      "metadata": {
        "colab": {
          "base_uri": "https://localhost:8080/"
        },
        "id": "iYp-HvOvt4JR",
        "outputId": "90b1746a-0e8f-4c84-978a-eb017ae548ca"
      },
      "execution_count": 1,
      "outputs": [
        {
          "output_type": "stream",
          "name": "stdout",
          "text": [
            "Write a number to convert. 75\n",
            "Choose from below:\n",
            " A. cm B. mm C. km b\n",
            "750\n"
          ]
        }
      ]
    },
    {
      "cell_type": "code",
      "source": [],
      "metadata": {
        "id": "fcV17ZSSMvE6"
      },
      "execution_count": null,
      "outputs": []
    }
  ]
}